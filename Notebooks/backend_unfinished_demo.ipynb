{
 "cells": [
  {
   "cell_type": "code",
   "execution_count": 11,
   "id": "84bbc6b9-de31-4bc9-9488-581378bbe44b",
   "metadata": {},
   "outputs": [],
   "source": [
    "import cv2\n",
    "import mediapipe as mp\n",
    "\n",
    "# Initialize MediaPipe Hands\n",
    "mp_hands = mp.solutions.hands\n",
    "mp_drawing = mp.solutions.drawing_utils\n",
    "hands = mp_hands.Hands(static_image_mode=True, max_num_hands=2)\n",
    "\n",
    "# Load image\n",
    "image = cv2.imread(\"RGB ArSL dataset/Al/Al_1.jpeg\")\n",
    "image_rgb = cv2.cvtColor(image, cv2.COLOR_BGR2RGB)\n",
    "\n",
    "# Process image\n",
    "results = hands.process(image_rgb)\n",
    "\n",
    "if results.multi_hand_landmarks:\n",
    "    for idx, hand_landmarks in enumerate(results.multi_hand_landmarks):\n",
    "        h, w, _ = image.shape\n",
    "\n",
    "        # Extract x and y coordinates\n",
    "        x_list = [int(lm.x * w) for lm in hand_landmarks.landmark]\n",
    "        y_list = [int(lm.y * h) for lm in hand_landmarks.landmark]\n",
    "\n",
    "        # Get bounding box coordinates\n",
    "        x_min, x_max = max(min(x_list), 0), min(max(x_list), w)\n",
    "        y_min, y_max = max(min(y_list), 0), min(max(y_list), h)\n",
    "\n",
    "        # Draw bounding box\n",
    "        cv2.rectangle(image, (x_min, y_min), (x_max, y_max), (0, 255, 0), 2)\n",
    "\n",
    "        # Crop hand region\n",
    "        cropped_hand = image[y_min:y_max, x_min:x_max]\n",
    "\n",
    "        # Show cropped hand\n",
    "        cv2.imshow(f\"Cropped Hand {idx+1}\", cropped_hand)\n",
    "\n",
    "        # Optionally draw landmarks\n",
    "        mp_drawing.draw_landmarks(image, hand_landmarks, mp_hands.HAND_CONNECTIONS)\n",
    "\n",
    "# Show original image with bounding box\n",
    "cv2.imshow(\"Hand with Bounding Box\", image)\n",
    "cv2.waitKey(0)\n",
    "cv2.destroyAllWindows()"
   ]
  },
  {
   "cell_type": "code",
   "execution_count": null,
   "id": "7bcd67a3-8326-4089-9002-822e2fff55f5",
   "metadata": {},
   "outputs": [],
   "source": []
  },
  {
   "cell_type": "code",
   "execution_count": null,
   "id": "d9e24064-c66f-47de-b378-786264ea375b",
   "metadata": {},
   "outputs": [],
   "source": []
  }
 ],
 "metadata": {
  "kernelspec": {
   "display_name": "Python 3 (ipykernel)",
   "language": "python",
   "name": "python3"
  },
  "language_info": {
   "codemirror_mode": {
    "name": "ipython",
    "version": 3
   },
   "file_extension": ".py",
   "mimetype": "text/x-python",
   "name": "python",
   "nbconvert_exporter": "python",
   "pygments_lexer": "ipython3",
   "version": "3.12.7"
  }
 },
 "nbformat": 4,
 "nbformat_minor": 5
}
